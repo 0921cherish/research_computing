{
 "cells": [
  {
   "cell_type": "markdown",
   "metadata": {},
   "source": [
    "# Xarray for multidimensional gridded data\n",
    "\n",
    "In last week's lecture, we saw how Pandas provided a way to keep track of additional \"metadata\" surrounding tabular datasets, including \"indexes\" for each row and labels for each column. These features, together with Pandas' many useful routines for all kinds of data munging and analysis, have made Pandas one of the most popular python packages in the world.\n",
    "\n",
    "However, not all Earth science datasets easily fit into the \"tabular\" model (i.e. rows and columns) imposed by Pandas. In particular, we often deal with _multidimensional data_. By _multidimensional data_ (also often called _N-dimensional_), I mean data with many independent dimensions or axes. For example, we might represent Earth's surface temperature $T$ as a three dimensional variable\n",
    "\n",
    "$$ T(x, y, t) $$\n",
    "\n",
    "where $x$ is longitude, $y$ is latitude, and $t$ is time.\n",
    "\n",
    "The point of xarray is to provide pandas-level convenience for working with this type of data. \n",
    "\n",
    "\n",
    "\n",
    "![xarray data model](https://github.com/pydata/xarray/raw/master/doc/_static/dataset-diagram.png)"
   ]
  },
  {
   "cell_type": "code",
   "execution_count": null,
   "metadata": {
    "collapsed": true
   },
   "outputs": [],
   "source": []
  },
  {
   "cell_type": "code",
   "execution_count": 1,
   "metadata": {},
   "outputs": [
    {
     "name": "stderr",
     "output_type": "stream",
     "text": [
      "/Users/rpa/anaconda/envs/geo_scipy/lib/python3.6/site-packages/matplotlib/__init__.py:913: UserWarning: axes.color_cycle is deprecated and replaced with axes.prop_cycle; please use the latter.\n",
      "  warnings.warn(self.msg_depr % (key, alt_key))\n"
     ]
    }
   ],
   "source": [
    "import numpy as np\n",
    "import xarray as xr\n",
    "from matplotlib import pyplot as plt\n",
    "%matplotlib inline"
   ]
  },
  {
   "cell_type": "code",
   "execution_count": 4,
   "metadata": {},
   "outputs": [
    {
     "data": {
      "text/plain": [
       "<xarray.Dataset>\n",
       "Dimensions:  (T: 324336, X: 540, Y: 361)\n",
       "Coordinates:\n",
       "  * X        (X) float32 -180.0 -179.333 -178.667 -178.0 -177.333 -176.667 ...\n",
       "  * T        (T) datetime64[ns] 1979-01-01T00:59:59.971200 ...\n",
       "  * Y        (Y) float32 -90.0 -89.5 -89.0 -88.5 -88.0 -87.5 -87.0 -86.5 ...\n",
       "Data variables:\n",
       "    t10m     (T, Y, X) float64 ...\n",
       "Attributes:\n",
       "    Conventions:  IRIDL"
      ]
     },
     "execution_count": 4,
     "metadata": {},
     "output_type": "execute_result"
    }
   ],
   "source": [
    "#url = 'http://iridl.ldeo.columbia.edu/SOURCES/.NOAA/.NCDC/.OISST/.version2/.AVHRR-AMSR/.sst/dods'\n",
    "#url = 'http://iridl.ldeo.columbia.edu/SOURCES/.SOC/.GASC97/dods'\n",
    "#url = 'http://www.esrl.noaa.gov/psd/thredds/dodsC/Datasets/olrcdr/olr.1deg.eq.1x.latlonregrid.1979-2016.nc'\n",
    "#url = 'http://iridl.ldeo.columbia.edu/SOURCES/.NOAA/.NCEP/.EMC/.CMB/.GLOBAL/.Reyn_SmithOIv2/.weekly/.sst/dods'\n",
    "url = 'http://iridl.ldeo.columbia.edu/SOURCES/.NASA/.GSFC/.MERRA/.Anl_MonoLev/.t10m/dods '\n",
    "ds = xr.open_dataset(url)\n",
    "ds"
   ]
  },
  {
   "cell_type": "code",
   "execution_count": 5,
   "metadata": {},
   "outputs": [],
   "source": [
    "ds_subset = ds.sel(T=slice('2015-01-01','2016-01-01'))\n",
    "ds_daily = ds_subset.resample('1D', dim='T', how='mean')"
   ]
  },
  {
   "cell_type": "code",
   "execution_count": 6,
   "metadata": {},
   "outputs": [
    {
     "data": {
      "text/plain": [
       "<xarray.Dataset>\n",
       "Dimensions:  (T: 366, X: 540, Y: 361)\n",
       "Coordinates:\n",
       "  * X        (X) float32 -180.0 -179.333 -178.667 -178.0 -177.333 -176.667 ...\n",
       "  * Y        (Y) float32 -90.0 -89.5 -89.0 -88.5 -88.0 -87.5 -87.0 -86.5 ...\n",
       "  * T        (T) datetime64[ns] 2015-01-01 2015-01-02 2015-01-03 2015-01-04 ...\n",
       "Data variables:\n",
       "    t10m     (T, Y, X) float64 245.7 245.7 245.7 245.7 245.7 245.7 245.7 ..."
      ]
     },
     "execution_count": 6,
     "metadata": {},
     "output_type": "execute_result"
    }
   ],
   "source": [
    "ds_daily"
   ]
  },
  {
   "cell_type": "code",
   "execution_count": 7,
   "metadata": {
    "collapsed": true
   },
   "outputs": [],
   "source": [
    "ds_daily.to_netcdf('MERRA_t10m_daily.nc')"
   ]
  },
  {
   "cell_type": "code",
   "execution_count": null,
   "metadata": {
    "collapsed": true
   },
   "outputs": [],
   "source": []
  }
 ],
 "metadata": {
  "kernelspec": {
   "display_name": "Python 3",
   "language": "python",
   "name": "python3"
  }
 },
 "nbformat": 4,
 "nbformat_minor": 2
}
